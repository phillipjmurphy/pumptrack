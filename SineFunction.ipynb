{
 "cells": [
  {
   "cell_type": "code",
   "execution_count": null,
   "metadata": {},
   "outputs": [],
   "source": [
    "import math\n",
    "print(math.pi)"
   ]
  },
  {
   "cell_type": "code",
   "execution_count": null,
   "metadata": {},
   "outputs": [],
   "source": [
    "import numpy as np\n",
    "import matplotlib.pyplot as plot\n",
    "\n",
    "# Get x values of the sine wave \n",
    "time = np.arange(0, 12, 0.01);\n",
    "\n",
    "# Amplitude of the sine wave is sine of a variable like time\n",
    "amplitude = 0.5 * np.sin(2 *time)\n",
    "cosamp = -1 * (np.cos(1/3 * time)) + 1\n",
    "# Plot a sine wave using time and amplitude obtained for the sine wave\n",
    "\n",
    "plot.plot(time, cosamp)\n",
    "# plot.plot(time, cosamp)\n",
    "\n",
    "# Give a title for the sine wave plot\n",
    "plot.title('Sine wave')\n",
    "\n",
    "# Give x axis label for the sine wave plot\n",
    "plot.xlabel('Time')\n",
    "\n",
    "# Give y axis label for the sine wave plot\n",
    "plot.ylabel('Amplitude = sin(time)')\n",
    "\n",
    "plot.grid(True, which='both')\n",
    "\n",
    "plot.axhline(y=-1, color='k')\n",
    "\n",
    "# plot.ylim(-1,1)\n",
    "\n",
    "# plot.xlim(0,12)\n",
    "# plot.show()\n",
    "\n",
    "# Display the sine wave\n",
    "plot.show()"
   ]
  },
  {
   "cell_type": "code",
   "execution_count": null,
   "metadata": {},
   "outputs": [],
   "source": [
    "import numpy as np\n",
    "import matplotlib.pyplot as plot\n",
    "\n",
    "# Get x values of the sine wave \n",
    "# We want to go from 0 to 12 feet, This is the range. \n",
    "# So if we calculate the y value should be from 0-1 \n",
    "# However if we want to draw things correctly I think this needs to change. \n",
    "\n",
    "\n",
    "x_values = np.arange(0, 12, 0.01);\n",
    "\n",
    "# Amplitude of the sine wave is sine of a variable like time\n",
    "amplitude = 0.5 * np.sin(2 *time)\n",
    "cosamp = -0.5 * (np.cos(math.pi/6 * time)) +0.5 \n",
    "# Plot a sine wave using time and amplitude obtained for the sine wave\n",
    "\n",
    "plot.plot(time, cosamp)\n",
    "# plot.plot(time, cosamp)\n",
    "\n",
    "# Give a title for the sine wave plot\n",
    "plot.title('Sine wave 12 feet, ft units')\n",
    "\n",
    "# Give x axis label for the sine wave plot\n",
    "plot.xlabel('Time')\n",
    "\n",
    "# Give y axis label for the sine wave plot\n",
    "plot.ylabel('Amplitude = sin(time)')\n",
    "\n",
    "plot.grid(True, which='both')\n",
    "\n",
    "plot.axhline(y=0, color='k')\n",
    "\n",
    "# plot.ylim(-1,1)\n",
    "\n",
    "# plot.xlim(0,12)\n",
    "# plot.show()\n",
    "\n",
    "# Display the sine wave\n",
    "plot.show()"
   ]
  },
  {
   "cell_type": "code",
   "execution_count": null,
   "metadata": {},
   "outputs": [],
   "source": [
    "import numpy as np\n",
    "import matplotlib.pyplot as plot\n",
    "import math\n",
    "# Get x values of the sine wave \n",
    "# We want to go from 0 to 12 feet, This is the range. \n",
    "# So if we calculate the y value should be from 0-1 \n",
    "# However if we want to draw things correctly I think this needs to change. \n",
    "\n",
    "distance = 12\n",
    "height = 1\n",
    "x_in = distance * 12\n",
    "y_in = height * 12\n",
    "units = 1/12\n",
    "period = math.pi / (x_in/2)\n",
    "x_values = np.arange(0, x_in, 1 );\n",
    "\n",
    "# Amplitude of the sine wave is sine of a variable like time\n",
    "# amplitude = 0.5 * np.sin(2 *x_values)\n",
    "cosamp = -(y_in/2) * (np.cos(period * x_values)) +(y_in/2)\n",
    "# Plot a sine wave using time and amplitude obtained for the sine wave\n",
    "\n",
    "\n",
    "# plot.plot(time, cosamp)\n",
    "\n",
    "# Give a title for the sine wave plot\n",
    "plot.title('Sine wave {0} inches, inch units'.format(y_in))\n",
    "\n",
    "# Give x axis label for the sine wave plot\n",
    "plot.xlabel('Time')\n",
    "\n",
    "# Give y axis label for the sine wave plot\n",
    "plot.ylabel('Amplitude = sin(time)')\n",
    "\n",
    "plot.grid(True, which='both')\n",
    "\n",
    "plot.axhline(y=0, color='k')\n",
    "\n",
    "plot.ylim(0,144)\n",
    "\n",
    "plot.xlim(0,144)\n",
    "# plot.show()\n",
    "\n",
    "plot.plot(x_values, cosamp)\n",
    "plot.savefig(\"test.svg\", format=\"svg\")\n",
    "# Display the sine wave\n",
    "plot.show()"
   ]
  },
  {
   "cell_type": "code",
   "execution_count": null,
   "metadata": {},
   "outputs": [],
   "source": [
    "!open test.svg"
   ]
  },
  {
   "cell_type": "code",
   "execution_count": null,
   "metadata": {},
   "outputs": [],
   "source": [
    "import pandas as pd "
   ]
  },
  {
   "cell_type": "code",
   "execution_count": null,
   "metadata": {},
   "outputs": [],
   "source": [
    "denominator = 16\n",
    "fraction = 1/denominator\n",
    "print(fraction)\n",
    "number = 7.8\n",
    "\n",
    "print(number)\n",
    "print('remainder ',number % fraction )\n",
    "print('number', (number // fraction)/8)\n",
    "# So since we have the remainder this is what it would be.\n",
    "\n"
   ]
  },
  {
   "cell_type": "code",
   "execution_count": null,
   "metadata": {},
   "outputs": [],
   "source": [
    "def myround(x, prec=4, base=.0625):\n",
    "    return round(base * round(float(x)/base),prec)"
   ]
  },
  {
   "cell_type": "code",
   "execution_count": null,
   "metadata": {},
   "outputs": [],
   "source": [
    "for j,i in enumerate(range(16)):\n",
    "    print(j, i * (1/16))"
   ]
  },
  {
   "cell_type": "code",
   "execution_count": null,
   "metadata": {},
   "outputs": [],
   "source": [
    "\n",
    "myround(7.2223)"
   ]
  },
  {
   "cell_type": "code",
   "execution_count": null,
   "metadata": {},
   "outputs": [],
   "source": [
    "df = pd.DataFrame(cosamp)\n",
    "df.columns = ['dec']\n"
   ]
  },
  {
   "cell_type": "code",
   "execution_count": null,
   "metadata": {},
   "outputs": [],
   "source": [
    "df['16ths'] = df.dec.apply(myround)\n",
    "# "
   ]
  },
  {
   "cell_type": "code",
   "execution_count": null,
   "metadata": {},
   "outputs": [],
   "source": [
    "df.to_csv('sine.csv')"
   ]
  },
  {
   "cell_type": "code",
   "execution_count": null,
   "metadata": {},
   "outputs": [],
   "source": [
    "!open sine.csv"
   ]
  },
  {
   "cell_type": "code",
   "execution_count": null,
   "metadata": {},
   "outputs": [],
   "source": [
    "len(x_values)"
   ]
  },
  {
   "cell_type": "code",
   "execution_count": null,
   "metadata": {},
   "outputs": [],
   "source": [
    "1/16"
   ]
  },
  {
   "cell_type": "code",
   "execution_count": null,
   "metadata": {},
   "outputs": [],
   "source": [
    "# for fuck sake, this took a bit. \n",
    "# How this is the table of measurements to do when you want a cos with the shift and everything. \n",
    "# This is in inches. \n",
    "\n",
    "for i, y_value in enumerate(cosamp):\n",
    "    if(i % 3 == 0):\n",
    "        print(i, y_value)"
   ]
  },
  {
   "cell_type": "code",
   "execution_count": null,
   "metadata": {},
   "outputs": [],
   "source": [
    "print(cosamp)"
   ]
  },
  {
   "cell_type": "code",
   "execution_count": null,
   "metadata": {},
   "outputs": [],
   "source": [
    "1/12"
   ]
  },
  {
   "cell_type": "code",
   "execution_count": null,
   "metadata": {},
   "outputs": [],
   "source": [
    "time\n"
   ]
  },
  {
   "cell_type": "code",
   "execution_count": null,
   "metadata": {},
   "outputs": [],
   "source": [
    "amplitude"
   ]
  },
  {
   "cell_type": "markdown",
   "metadata": {},
   "source": [
    "\n",
    "``` javascript \n",
    "\n",
    "function getFormData() {\n",
    "    let length = document.getElementById('length').value;\n",
    "    const ratios = document.getElementsByName('ratio');\n",
    "    const distance = parseInt(document.getElementById('distance').value);\n",
    "    const table = document.getElementById(\"resultTable\");\n",
    "\n",
    "    let result = 0;\n",
    "    let rows = [];\n",
    "    let row = {};\n",
    "    let ratio;\n",
    "    let labels = [];\n",
    "    let data = [];\n",
    "\n",
    "    for (let i = 0; i < ratios.length; i++) {\n",
    "        if (ratios[i].checked) {\n",
    "            ratio = ratios[i].value;\n",
    "        }\n",
    "    }\n",
    "\n",
    "    for (let i = 0; i <= length; i = i + distance) {\n",
    "        result = calculateRoller(length, i, ratio);\n",
    "        row = {\n",
    "            distance: i,\n",
    "            value: Math.round(result) + (length / ratio)\n",
    "        };\n",
    "        labels.push(row.distance);\n",
    "        data.push(Math.round(row.value / 2));\n",
    "        row.value = Math.round(row.value / 2);\n",
    "        rows.push(row);\n",
    "    }\n",
    "\n",
    "    if (data[data.length - 1] != 0) {\n",
    "        console.log(\"värde i if före \" + data[data.length - 1]);\n",
    "        row = {\n",
    "            distance: length,\n",
    "            value: 0\n",
    "        };\n",
    "        labels.push(length)\n",
    "        data.push(0);\n",
    "        rows.push(row);\n",
    "        console.log(\"värde i if efter \" + data[data.length - 1]);\n",
    "    }\n",
    "    console.log(\"värdet ska vara 0 \" + data[data.length - 1]);\n",
    "\n",
    "    // om inte data sista position = 0.\n",
    "    // push length = 0\n",
    "    // for (let i = 0; i < rows.length; i++) {\n",
    "    //     console.log(rows[i]);\n",
    "    // }\n",
    "\n",
    "    generateTable(table, rows)\n",
    "\n",
    "    let myChart = document.getElementById('myChart').getContext('2d');\n",
    "    let lineChart = new Chart(myChart,{\n",
    "        type: 'line',\n",
    "        data: {\n",
    "            labels: labels,\n",
    "            datasets: [{\n",
    "                label: 'Roller',\n",
    "                data: data\n",
    "            }]\n",
    "        },\n",
    "        options: {\n",
    "            scales: {\n",
    "                yAxes: [{\n",
    "                    ticks: {\n",
    "                        display: false\n",
    "                    }\n",
    "                }]\n",
    "            }\n",
    "        }\n",
    "    });\n",
    "}\n",
    "\n",
    "function calculateRoller(length, distance, ratio) {\n",
    "    return (-(length / ratio)) * Math.cos(((2 * Math.PI) / length) * distance);\n",
    "}\n",
    "\n",
    "function generateTable(table, rows) {\n",
    "\n",
    "    for (let element of rows) {\n",
    "        let row = table.insertRow();\n",
    "        for (let key in element) {\n",
    "            let cell = row.insertCell();\n",
    "            let text = document.createTextNode(element[key]);\n",
    "            cell.appendChild(text);\n",
    "        }\n",
    "    }\n",
    "}\n",
    "\n",
    "```"
   ]
  },
  {
   "cell_type": "code",
   "execution_count": null,
   "metadata": {},
   "outputs": [],
   "source": [
    "def calculateRoller ( length, distance,ratio =10 ):\n",
    "    print('At length')\n",
    "    print(length, distance,ratio)"
   ]
  },
  {
   "cell_type": "code",
   "execution_count": null,
   "metadata": {},
   "outputs": [],
   "source": [
    "calculateRoller(1,12,10)\n",
    "\n"
   ]
  },
  {
   "cell_type": "code",
   "execution_count": null,
   "metadata": {},
   "outputs": [],
   "source": [
    "for i in range(12):\n",
    "    calculateRoller(1,i,10)\n",
    "    "
   ]
  },
  {
   "cell_type": "code",
   "execution_count": null,
   "metadata": {},
   "outputs": [],
   "source": [
    "length = 12\n",
    "height = 1\n"
   ]
  },
  {
   "cell_type": "code",
   "execution_count": null,
   "metadata": {},
   "outputs": [],
   "source": [
    "import svgwrite\n",
    "\n",
    "dwg = svgwrite.Drawing('test.svg', profile='tiny')\n",
    "dwg.add(dwg.line((0, 0), (10, 0), stroke=svgwrite.rgb(10, 10, 16, '%')))\n",
    "dwg.add(dwg.text('Test', insert=(0, 0.2), fill='red'))\n",
    "dwg.save()"
   ]
  },
  {
   "cell_type": "code",
   "execution_count": null,
   "metadata": {},
   "outputs": [],
   "source": [
    "from IPython.display import SVG, display\n",
    "display(SVG('test.svg'))"
   ]
  },
  {
   "cell_type": "code",
   "execution_count": null,
   "metadata": {},
   "outputs": [],
   "source": []
  },
  {
   "cell_type": "code",
   "execution_count": null,
   "metadata": {},
   "outputs": [],
   "source": []
  }
 ],
 "metadata": {
  "kernelspec": {
   "display_name": "Python 3",
   "language": "python",
   "name": "python3"
  },
  "language_info": {
   "codemirror_mode": {
    "name": "ipython",
    "version": 3
   },
   "file_extension": ".py",
   "mimetype": "text/x-python",
   "name": "python",
   "nbconvert_exporter": "python",
   "pygments_lexer": "ipython3",
   "version": "3.7.2"
  }
 },
 "nbformat": 4,
 "nbformat_minor": 4
}
